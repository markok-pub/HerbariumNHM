{
 "cells": [
  {
   "cell_type": "markdown",
   "metadata": {},
   "source": [
    "# NHM Contrastive Learning Notebook\n",
    "Marko Kadic, TU Wien\n",
    "\n",
    "In this notebook I will apply contrastive learning, more specifically SimCLR to the Herbarium collection\n",
    "of the Vienna Natural History Museum (NHM).\n",
    "\n",
    "I will use it to classify the plants according to their genome and compare the results to the current state-of-the-art systems in the field on the: XY dataset.\n",
    "\n",
    "I will also use the embeddings created by the contrastive learning to explore the phenotypical features of the plants, and to create a visual analysis tool for the botanical researchers.\n",
    "\n",
    "The tool should help them explore their vast collection of plants."
   ]
  },
  {
   "cell_type": "markdown",
   "metadata": {},
   "source": [
    "**1. Dataset**\n",
    "Data loading and Data preparation"
   ]
  },
  {
   "cell_type": "code",
   "execution_count": null,
   "metadata": {},
   "outputs": [],
   "source": []
  },
  {
   "cell_type": "markdown",
   "metadata": {},
   "source": []
  },
  {
   "cell_type": "code",
   "execution_count": null,
   "metadata": {},
   "outputs": [],
   "source": []
  }
 ],
 "metadata": {
  "kernelspec": {
   "display_name": "Python 3",
   "language": "python",
   "name": "python3"
  },
  "language_info": {
   "codemirror_mode": {
    "name": "ipython",
    "version": 3
   },
   "file_extension": ".py",
   "mimetype": "text/x-python",
   "name": "python",
   "nbconvert_exporter": "python",
   "pygments_lexer": "ipython3",
   "version": "3.6.8"
  }
 },
 "nbformat": 4,
 "nbformat_minor": 2
}
