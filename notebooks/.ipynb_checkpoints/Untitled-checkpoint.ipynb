{
 "cells": [
  {
   "cell_type": "code",
   "execution_count": 2,
   "metadata": {},
   "outputs": [],
   "source": [
    "import bokeh\n",
    "import scipy\n",
    "\n",
    "import pandas as pd\n",
    "\n",
    "from bokeh.io import output_file, show\n",
    "from bokeh.models import BasicTicker, ColorBar, LinearColorMapper, ColumnDataSource, PrintfTickFormatter\n",
    "from bokeh.plotting import figure\n",
    "from bokeh.transform import transform"
   ]
  },
  {
   "cell_type": "markdown",
   "metadata": {},
   "source": [
    "4: 96x96 - 15% - train: 0.8865 test: 0.7247  bri: 0.5\n",
    "5: 186x186 - 35% - train: 0.9508 test: 0.8403   bri: 0.5\n",
    "6: 300x300 - 35% - train: 0.9593 test: 0.7915  bri: 0.5\n",
    "7: 360x360 - 35% - train: 0.9738 test: 0.8353  bri: 0.5\n",
    "8: 360x360 - 35% - train: 0.9593 test: 0.7914  bri: 0.5\n",
    "10: 192x192 - 25% - train: 0.9991 test: 0.8456  bri: 0.4\n",
    "11: 224x224 - 20% - train: 0.9925 test: 0.8554   bri: 0.3 \n",
    "12: 192x192 - 45% - train: 0.9995 test: 0.8006  bri: 0.3\n",
    "13: 224x224 - 15% - train: 1.0 test: 0.8494  bri: 0.2 \n",
    "14: 182x182 - 18% - train: 0.9999 test: 0.8469  bri: 0.3\n",
    "15: 196x196 - 20% ADDED - train: 0.9991 test: 0.8488  bri:0.3\n",
    "\n",
    "by perc: 4, 13, 14, 11, 15, 10, 5,6,7,8, 12\n"
   ]
  },
  {
   "cell_type": "code",
   "execution_count": null,
   "metadata": {},
   "outputs": [],
   "source": [
    "model4_train =0.8865\n",
    "model4_test = 0.7247\n",
    "model5_train =0.9508\n",
    "model5_test = 0.8403\n",
    "model6_train = 0.9593\n",
    "model6_test = 0.7915\n",
    "model7_train =0.9738\n",
    "model7_test = 0.8353\n",
    "model8_train =0.9593\n",
    "model8_test = 0.7914\n",
    "model10_train =0.9991\n",
    "model10_test = 0.8456\n",
    "model11_train =0.9925 \n",
    "model11_test = 0.8554\n",
    "model12_train =0.9995\n",
    "model12_test = 0.8006\n",
    "model13_train =1.0\n",
    "model13_test = 0.8494\n",
    "model14_train =0.9999\n",
    "model14_test = 0.8469\n",
    "model15_train =0.9991\n",
    "model15_test = 0.8488"
   ]
  },
  {
   "cell_type": "code",
   "execution_count": 66,
   "metadata": {},
   "outputs": [],
   "source": [
    "# TEST DATA OUTPUTS\n",
    "df = pd.DataFrame(\n",
    "    [\n",
    "    [0.7247, 0, 0, 0, 0, 0.8494, 0, 0], \n",
    "    [0, 0.8469, 0, 0, 0, 0, 0, 0], \n",
    "    [0, 0, 0, 0, 0.8488, 0.8554, 0, 0], \n",
    "    [0, 0, 0, 0.8456, 0, 0, 0, 0], \n",
    "    [0, 0, 0.8403, 0, 0, 0, 0.7915, 0.7914], \n",
    "    [0, 0, 0, 0.8006, 0, 0, 0, 0],  \n",
    "    ],\n",
    "    columns=['96x96', '182x182','186x186','192x192','196x196', '224x224', '300x300', '360x360'],\n",
    "    index=['15%', '18%', '20%', '25%','35%', '45%'])\n",
    "df.index.name = 'crop_perc'\n",
    "df.columns.name = 'crop_size'"
   ]
  },
  {
   "cell_type": "code",
   "execution_count": 71,
   "metadata": {},
   "outputs": [],
   "source": [
    "# TRAIN DATA OUTPUTS\n",
    "df = pd.DataFrame(\n",
    "    [\n",
    "    [0.8865, 0, 0, 0, 0, 1.0, 0, 0], \n",
    "    [0, 0.9999, 0, 0, 0, 0, 0, 0], \n",
    "    [0, 0, 0, 0, 0.9991, 0.9925, 0, 0], \n",
    "    [0, 0, 0, 0.9991, 0, 0, 0, 0], \n",
    "    [0, 0, 0.9508, 0, 0, 0, 0.9593, 0.9738], \n",
    "    [0, 0, 0, 0.9995, 0, 0, 0, 0],  \n",
    "    ],\n",
    "    columns=['96x96', '182x182','186x186','192x192','196x196', '224x224', '300x300', '360x360'],\n",
    "    index=['15%', '18%', '20%', '25%','35%', '45%'])\n",
    "df.index.name = 'crop_perc'\n",
    "df.columns.name = 'crop_size'"
   ]
  },
  {
   "cell_type": "code",
   "execution_count": 72,
   "metadata": {},
   "outputs": [],
   "source": [
    "# Prepare data.frame in the right format\n",
    "df = df.stack().rename(\"value\").reset_index()"
   ]
  },
  {
   "cell_type": "code",
   "execution_count": null,
   "metadata": {},
   "outputs": [],
   "source": []
  },
  {
   "cell_type": "code",
   "execution_count": 74,
   "metadata": {
    "scrolled": false
   },
   "outputs": [],
   "source": [
    "from bokeh.core.properties import Enum\n",
    "\n",
    "# here the plot :\n",
    "output_file(\"myPlot.html\")\n",
    "\n",
    "# You can use your own palette here\n",
    "colors = ['#a6d96a', '#1a9641','#fdae61','#FF4433','#d7191c', '#900C3F', '#581845' ,'#000000']\n",
    "\n",
    "# Had a specific mapper to map color with value\n",
    "mapper = LinearColorMapper(\n",
    "    palette=colors, low=0.85, high=1)\n",
    "# Define a figure\n",
    "p = figure(\n",
    "    plot_width=800,\n",
    "    plot_height=300,\n",
    "    title=\"Train SUBSET - 200 categories\",\n",
    "    x_range=list(df.crop_perc.drop_duplicates()),\n",
    "    y_range=list(df.crop_size.drop_duplicates()),\n",
    "    toolbar_location=None,\n",
    "    tools=\"\",\n",
    "    x_axis_location='above')\n",
    "# Create rectangle for heatmap\n",
    "p.rect(\n",
    "    x=\"crop_perc\",\n",
    "    y=\"crop_size\",\n",
    "    width=1,\n",
    "    height=1,\n",
    "    source=ColumnDataSource(df),\n",
    "    line_color=None,\n",
    "    fill_color=transform('value', mapper))\n",
    "# Add legend\n",
    "color_bar = ColorBar(\n",
    "    color_mapper=mapper,\n",
    "    location=(0, 0),\n",
    "    ticker=BasicTicker(desired_num_ticks=len(colors)))\n",
    "\n",
    "p.add_layout(color_bar, 'right')\n",
    "\n",
    "show(p)"
   ]
  },
  {
   "cell_type": "code",
   "execution_count": null,
   "metadata": {},
   "outputs": [],
   "source": []
  }
 ],
 "metadata": {
  "kernelspec": {
   "display_name": "Python 3",
   "language": "python",
   "name": "python3"
  },
  "language_info": {
   "codemirror_mode": {
    "name": "ipython",
    "version": 3
   },
   "file_extension": ".py",
   "mimetype": "text/x-python",
   "name": "python",
   "nbconvert_exporter": "python",
   "pygments_lexer": "ipython3",
   "version": "3.6.8"
  }
 },
 "nbformat": 4,
 "nbformat_minor": 2
}
